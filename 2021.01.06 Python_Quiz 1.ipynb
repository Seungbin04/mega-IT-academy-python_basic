{
 "cells": [
  {
   "cell_type": "markdown",
   "metadata": {},
   "source": [
    "# 문제 1\n",
    "\n",
    "리스트 [1,3,4,5,2] 를 내림차순, 오름차순으로 정렬하고, 4를 빼고 다시 리스트를 출력하세요"
   ]
  },
  {
   "cell_type": "code",
   "execution_count": 1,
   "metadata": {},
   "outputs": [],
   "source": [
    "lis = [1,3,4,5,2]"
   ]
  },
  {
   "cell_type": "code",
   "execution_count": 2,
   "metadata": {},
   "outputs": [
    {
     "name": "stdout",
     "output_type": "stream",
     "text": [
      "[1, 2, 3, 4, 5]\n"
     ]
    }
   ],
   "source": []
  },
  {
   "cell_type": "code",
   "execution_count": 3,
   "metadata": {},
   "outputs": [
    {
     "name": "stdout",
     "output_type": "stream",
     "text": [
      "[1, 2, 3, 4, 5]\n"
     ]
    }
   ],
   "source": []
  },
  {
   "cell_type": "code",
   "execution_count": 4,
   "metadata": {
    "scrolled": true
   },
   "outputs": [
    {
     "name": "stdout",
     "output_type": "stream",
     "text": [
      "[1, 2, 3, 5]\n"
     ]
    }
   ],
   "source": []
  },
  {
   "cell_type": "markdown",
   "metadata": {},
   "source": [
    "# 문제2 \n",
    "\n",
    "표에서 아이스크림 이름을 키값으로, (가격, 재고) 리스트를 딕셔너리의 값으로 저장하라.  \n",
    "딕셔너리의 이름은 inventory로 한다.\n",
    "\n",
    "|이름|가격|재고|\n",
    "|-----|-----|-----|\n",
    "|메로나|300|20|\n",
    "|비비빅|400|3|\n",
    "|죠스바|250|100|\n",
    "\n",
    "inventory 딕셔너리에서 메로나의 재고를 화면에 출력하라."
   ]
  },
  {
   "cell_type": "code",
   "execution_count": 5,
   "metadata": {},
   "outputs": [],
   "source": [
    "inventory = {'메로나': [300, 20], '비비빅': [400, 3], '죠스바': [250, 100]}"
   ]
  },
  {
   "cell_type": "code",
   "execution_count": 6,
   "metadata": {},
   "outputs": [
    {
     "name": "stdout",
     "output_type": "stream",
     "text": [
      "300원\n"
     ]
    }
   ],
   "source": []
  },
  {
   "cell_type": "markdown",
   "metadata": {},
   "source": [
    "# 문제 3\n",
    "\n",
    "영희, 철수, 미애, 영진, 건희, 재용, 정희, 정혜는 서로 다른 취미를 가지고 있다.\n",
    "영희와 건희는 필라테스를 취미로 한다.\n",
    "정희와 정혜, 재용, 영희는 영화감상을 취미로 한다.\n",
    "철수0, 미애, 정희, 정혜, 영희는 수영을 취미로 한다.\n",
    "각각의 취미를 변수명, 이름을 원소로하는 집합으로 만들고 아래의 질문을 답을 하시오.\n",
    "\n",
    "Q) 영화감상을 좋아하지만, 수영은 좋아하지 앟는 친구를 찾아보자"
   ]
  },
  {
   "cell_type": "code",
   "execution_count": 7,
   "metadata": {},
   "outputs": [],
   "source": [
    "필라테스 = {'영희', '건희'}\n",
    "영화감상 = {'정희', '정혜', '재용', '영희'}\n",
    "수영 = {'철수', '미애', '정희', '정혜', '영희'}"
   ]
  },
  {
   "cell_type": "code",
   "execution_count": 8,
   "metadata": {
    "scrolled": true
   },
   "outputs": [
    {
     "data": {
      "text/plain": [
       "{'재용'}"
      ]
     },
     "execution_count": 8,
     "metadata": {},
     "output_type": "execute_result"
    }
   ],
   "source": []
  },
  {
   "cell_type": "markdown",
   "metadata": {},
   "source": [
    "# 문제 4\n",
    "\n",
    "고객의 개인정보보호를 위하여 이름을 비 식별화를 하려고 한다.\n",
    "고객의 이름을 비 식별화 하여서 출력해보세요.\n",
    "\n",
    "예시) 홍길동 -> 홍*동"
   ]
  },
  {
   "cell_type": "code",
   "execution_count": 9,
   "metadata": {},
   "outputs": [],
   "source": [
    "names = ['홍길동', '홍계월', '김철수', '이영희', '박첨지']"
   ]
  },
  {
   "cell_type": "code",
   "execution_count": 10,
   "metadata": {},
   "outputs": [
    {
     "name": "stdout",
     "output_type": "stream",
     "text": [
      "홍*동\n",
      "홍*월\n",
      "김*수\n",
      "이*희\n",
      "박*지\n"
     ]
    }
   ],
   "source": []
  },
  {
   "cell_type": "markdown",
   "metadata": {},
   "source": [
    "# 문제 5\n",
    "\n",
    "‘students.txt’ 파일을 읽어서 딕셔너리로 학생들의 정보를 저장하라.\n",
    "해당 파일은 이름, 국어점수, 영어점수, 수학점수 순으로 되어있으며, 각 컬럼의 구분자는 tab(\\t)으로 이루어져있다.\n",
    "이름을 key로 하고, 국어점수, 영어점수, 수학점수를 순서대로 담은 리스트를 value로 하는 딕셔너리로 저장하라.\n",
    "(encoding을 주의하시오.) "
   ]
  },
  {
   "cell_type": "markdown",
   "metadata": {},
   "source": [
    "- read 이용"
   ]
  },
  {
   "cell_type": "code",
   "execution_count": 11,
   "metadata": {},
   "outputs": [],
   "source": [
    "students = {}"
   ]
  },
  {
   "cell_type": "code",
   "execution_count": 12,
   "metadata": {},
   "outputs": [
    {
     "name": "stdout",
     "output_type": "stream",
     "text": [
      "홍길동\t50\t70\t65\n",
      "홍계월\t80\t90\t100\n",
      "뽀로로\t83\t92\t86\n",
      "펭수\t95\t100\t97\n",
      "뚝딱이\t77\t72\t87\n",
      "----\n",
      "['홍길동\\t50\\t70\\t65', '홍계월\\t80\\t90\\t100', '뽀로로\\t83\\t92\\t86', '펭수\\t95\\t100\\t97', '뚝딱이\\t77\\t72\\t87']\n",
      "----\n",
      "['홍길동', '50', '70', '65']\n",
      "['홍계월', '80', '90', '100']\n",
      "['뽀로로', '83', '92', '86']\n",
      "['펭수', '95', '100', '97']\n",
      "['뚝딱이', '77', '72', '87']\n",
      "----\n"
     ]
    }
   ],
   "source": []
  },
  {
   "cell_type": "markdown",
   "metadata": {},
   "source": [
    " - readlines 이용"
   ]
  },
  {
   "cell_type": "code",
   "execution_count": 13,
   "metadata": {},
   "outputs": [],
   "source": [
    "students2= {}"
   ]
  },
  {
   "cell_type": "code",
   "execution_count": 14,
   "metadata": {},
   "outputs": [
    {
     "name": "stdout",
     "output_type": "stream",
     "text": [
      "['홍길동\\t50\\t70\\t65\\n', '홍계월\\t80\\t90\\t100\\n', '뽀로로\\t83\\t92\\t86\\n', '펭수\\t95\\t100\\t97\\n', '뚝딱이\\t77\\t72\\t87']\n",
      "----\n",
      "['홍길동', '50', '70', '65\\n']\n",
      "['홍계월', '80', '90', '100\\n']\n",
      "['뽀로로', '83', '92', '86\\n']\n",
      "['펭수', '95', '100', '97\\n']\n",
      "['뚝딱이', '77', '72', '87']\n"
     ]
    }
   ],
   "source": []
  },
  {
   "cell_type": "markdown",
   "metadata": {},
   "source": [
    "# 문제 6\n",
    "\n",
    "저장한 딕셔너리를 토대로 학생들의 평균을 구하라.\n",
    "전체 학생의 국어, 영어, 수학 점수의 평균을 구해서 각각 kor, eng, math라는 변수에 저장하고, 출력하라."
   ]
  },
  {
   "cell_type": "code",
   "execution_count": 15,
   "metadata": {},
   "outputs": [
    {
     "data": {
      "text/plain": [
       "{'홍길동': ['50', '70', '65'],\n",
       " '홍계월': ['80', '90', '100'],\n",
       " '뽀로로': ['83', '92', '86'],\n",
       " '펭수': ['95', '100', '97'],\n",
       " '뚝딱이': ['77', '72', '87']}"
      ]
     },
     "execution_count": 15,
     "metadata": {},
     "output_type": "execute_result"
    }
   ],
   "source": [
    "students"
   ]
  },
  {
   "cell_type": "code",
   "execution_count": 16,
   "metadata": {},
   "outputs": [],
   "source": [
    "kor = 0\n",
    "eng = 0\n",
    "math = 0"
   ]
  },
  {
   "cell_type": "code",
   "execution_count": 17,
   "metadata": {},
   "outputs": [],
   "source": []
  },
  {
   "cell_type": "code",
   "execution_count": 18,
   "metadata": {},
   "outputs": [
    {
     "name": "stdout",
     "output_type": "stream",
     "text": [
      "학생들의 평균은 아래와 같습니다.\n",
      "국어 : 77.0\n",
      "영어 : 84.8\n",
      "수학 : 87.0\n"
     ]
    }
   ],
   "source": []
  },
  {
   "cell_type": "markdown",
   "metadata": {},
   "source": [
    "# 문제 7 \n",
    "학생들 개개인의 평균을 구하는 함수를 작성하라.\n",
    "이름을 넣으면 국어, 영어, 수학 3과목의 평균을 계산하여 반환하는 함수를 작성하라."
   ]
  },
  {
   "cell_type": "code",
   "execution_count": 19,
   "metadata": {},
   "outputs": [],
   "source": []
  },
  {
   "cell_type": "code",
   "execution_count": 20,
   "metadata": {},
   "outputs": [
    {
     "name": "stdout",
     "output_type": "stream",
     "text": [
      "97.33333333333333\n"
     ]
    }
   ],
   "source": []
  },
  {
   "cell_type": "markdown",
   "metadata": {},
   "source": [
    "# 문제 8\n",
    "\n",
    "복리이자율7%로 1000만원 저금시 2000만원이 되기까지 몇년이 걸리는가?"
   ]
  },
  {
   "cell_type": "code",
   "execution_count": null,
   "metadata": {},
   "outputs": [],
   "source": []
  }
 ],
 "metadata": {
  "kernelspec": {
   "display_name": "Python 3",
   "language": "python",
   "name": "python3"
  },
  "language_info": {
   "codemirror_mode": {
    "name": "ipython",
    "version": 3
   },
   "file_extension": ".py",
   "mimetype": "text/x-python",
   "name": "python",
   "nbconvert_exporter": "python",
   "pygments_lexer": "ipython3",
   "version": "3.7.3"
  }
 },
 "nbformat": 4,
 "nbformat_minor": 2
}
