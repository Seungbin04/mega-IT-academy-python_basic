{
 "cells": [
  {
   "cell_type": "markdown",
   "metadata": {},
   "source": [
    "# 문제 1\n",
    "\n",
    "\n",
    "다음 문장에서 모음('aeiou')을 제거하시오\n",
    "\n",
    "문장 : \"Life is too short, you need python!\" (Hint : List comprehension or for 문을 사용하세요.)"
   ]
  },
  {
   "cell_type": "code",
   "execution_count": 1,
   "metadata": {},
   "outputs": [
    {
     "name": "stdout",
     "output_type": "stream",
     "text": [
      "Lf s t shrt, y nd pythn\n"
     ]
    }
   ],
   "source": []
  },
  {
   "cell_type": "markdown",
   "metadata": {},
   "source": [
    "# 문제 2\n",
    "\n",
    "리스트 중에서 홀수에만 2를 곱하여 저장하는 코드 작성."
   ]
  },
  {
   "cell_type": "code",
   "execution_count": 5,
   "metadata": {},
   "outputs": [
    {
     "data": {
      "text/plain": [
       "[0, 1, 2, 3, 4, 5, 6, 7, 8, 9]"
      ]
     },
     "execution_count": 5,
     "metadata": {},
     "output_type": "execute_result"
    }
   ],
   "source": []
  },
  {
   "cell_type": "code",
   "execution_count": 7,
   "metadata": {},
   "outputs": [
    {
     "data": {
      "text/plain": [
       "[2, 6, 10, 14, 18]"
      ]
     },
     "execution_count": 7,
     "metadata": {},
     "output_type": "execute_result"
    }
   ],
   "source": []
  },
  {
   "cell_type": "markdown",
   "metadata": {},
   "source": [
    "# 문제 3\n",
    "\n",
    "LIst Comprehension을 이용해서 list1이 1부터 100사이의 8의 배수를 가지도록 만들어 보세요\n",
    "\n",
    "우리가 연습문제 풀었던 것과 비슷합니다. 다시 한번 복습!\n",
    "\n",
    "참고 : https://programmers.co.kr/learn/courses/2/lessons/352(프로그래머스 실습문제)"
   ]
  },
  {
   "cell_type": "markdown",
   "metadata": {},
   "source": [
    "# 문제 4\n",
    "\n",
    "Shape를 부모 클래스로 Square 자식 클래스를 정의하는 코드를 작성하십시오.\n",
    "\n",
    "Square 클래스는 length 필드를 가지며, 0을 반환하는 Shape 클래스의 area 메서드를\n",
    "\n",
    "length * length 값을 반환하는 메서드로 오버라이딩합니다.\""
   ]
  },
  {
   "cell_type": "code",
   "execution_count": 8,
   "metadata": {},
   "outputs": [
    {
     "name": "stdout",
     "output_type": "stream",
     "text": [
      "정사각형의 면적: 9\n"
     ]
    }
   ],
   "source": []
  },
  {
   "cell_type": "markdown",
   "metadata": {},
   "source": [
    "# 문제 5\n",
    "\n",
    "Person를 부모 클래스로 Male, Female 자식 클래스를 정의하는 코드를 작성하십시오.\n",
    "\n",
    "\"Unknown\"을 반환하는 Person 클래스의 getGender 메서드를 Male 클래스와 Female 클래스는\n",
    "\n",
    "\"Male\", \"Female\" 값을 반환하는 메서드로 오버라이딩합니다."
   ]
  },
  {
   "cell_type": "code",
   "execution_count": 9,
   "metadata": {},
   "outputs": [
    {
     "name": "stdout",
     "output_type": "stream",
     "text": [
      "Male\n",
      "Female\n"
     ]
    }
   ],
   "source": []
  },
  {
   "cell_type": "markdown",
   "metadata": {},
   "source": [
    "# 문제 6\n",
    "행렬의 덧셈은 행과 열의 크기가 같은 두 행렬의 같은 행, 같은 열의 값을 서로 더한 결과가 됩니다. 2개의 행렬 arr1과 arr2를 입력받아, 행렬 덧셈의 결과를 반환하는 함수, solution을 완성해주세요.\n",
    "\n",
    "제한 조건\n",
    "행렬 arr1, arr2의 행과 열의 길이는 500을 넘지 않습니다.\n",
    "\n",
    "문제풀이1) for 문 작성\n",
    "문제풀이2) zip 함수 이용\n",
    "문제풀이3) list comprehension을 이용\n",
    "\n",
    "\n",
    "## 총 3가지 방법을 한번 풀어보세요.\n",
    "\n",
    "참고 : https://programmers.co.kr/learn/courses/30/lessons/12950(프로그래머스 문제)"
   ]
  },
  {
   "cell_type": "code",
   "execution_count": 10,
   "metadata": {},
   "outputs": [],
   "source": []
  },
  {
   "cell_type": "code",
   "execution_count": 11,
   "metadata": {},
   "outputs": [],
   "source": []
  },
  {
   "cell_type": "code",
   "execution_count": 12,
   "metadata": {},
   "outputs": [],
   "source": []
  },
  {
   "cell_type": "code",
   "execution_count": null,
   "metadata": {},
   "outputs": [],
   "source": []
  }
 ],
 "metadata": {
  "kernelspec": {
   "display_name": "Python 3",
   "language": "python",
   "name": "python3"
  },
  "language_info": {
   "codemirror_mode": {
    "name": "ipython",
    "version": 3
   },
   "file_extension": ".py",
   "mimetype": "text/x-python",
   "name": "python",
   "nbconvert_exporter": "python",
   "pygments_lexer": "ipython3",
   "version": "3.7.3"
  }
 },
 "nbformat": 4,
 "nbformat_minor": 2
}
